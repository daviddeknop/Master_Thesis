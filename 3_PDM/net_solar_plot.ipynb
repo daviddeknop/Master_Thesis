{
 "cells": [
  {
   "cell_type": "code",
   "execution_count": null,
   "id": "8c1b5cc3",
   "metadata": {},
   "outputs": [],
   "source": [
    "import os\n",
    "import pandas as pd\n",
    "from pathlib import Path \n",
    "\n",
    "current_dir = Path(os.getcwd())  # Use Path to enable .parent\n",
    "\n",
    "# Construct the path to the pickle file\n",
    "pickle_file_path = current_dir / \"data\" / \"Zwalm_data\" / \"preprocess_output\" / \"forcings_ERA5.pkl\"\n",
    "\n",
    "# Check if the pickle file exists before attempting to read it\n",
    "if pickle_file_path.exists():\n",
    "    # Read the pickle file into a DataFrame\n",
    "    data = pd.read_pickle(pickle_file_path)\n",
    "\n",
    "    # Print the first few rows of the DataFrame\n",
    "    print(data.head())\n",
    "else:\n",
    "    print(f\"Error: The file {pickle_file_path} does not exist.\")\n"
   ]
  },
  {
   "cell_type": "code",
   "execution_count": null,
   "id": "d6471a46",
   "metadata": {},
   "outputs": [],
   "source": [
    "import matplotlib.pyplot as plt\n",
    "\n",
    "# Plot the data\n",
    "plt.figure(figsize=(6.3, 3.5))\n",
    "\n",
    "data['date'] = pd.to_datetime(data['date'])\n",
    "plt.plot(data['date'], data['surface_net_solar_radiation_mean'], color='red',linewidth=1)\n",
    "\n",
    "# Add labels and title\n",
    "plt.xlabel('Date', fontsize =12)\n",
    "plt.ylabel('Surface Net Solar Radiation (W/m²)', fontsize=12)\n",
    "plt.grid(True, linestyle='--', alpha=0.7)\n",
    "plt.tight_layout()\n",
    "plt.xticks(rotation=45)\n",
    "plt.style.use('seaborn-v0_8-whitegrid')\n",
    "plt.savefig(\"temperaturetimeseries.png\", dpi=1000, bbox_inches='tight')\n",
    "plt.show()\n"
   ]
  }
 ],
 "metadata": {
  "kernelspec": {
   "display_name": "Python 3",
   "language": "python",
   "name": "python3"
  },
  "language_info": {
   "codemirror_mode": {
    "name": "ipython",
    "version": 3
   },
   "file_extension": ".py",
   "mimetype": "text/x-python",
   "name": "python",
   "nbconvert_exporter": "python",
   "pygments_lexer": "ipython3",
   "version": "3.10.14"
  }
 },
 "nbformat": 4,
 "nbformat_minor": 5
}
