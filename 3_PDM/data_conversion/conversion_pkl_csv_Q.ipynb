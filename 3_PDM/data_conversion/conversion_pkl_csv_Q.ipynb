{
 "cells": [
  {
   "cell_type": "code",
   "execution_count": 15,
   "metadata": {},
   "outputs": [],
   "source": [
    "import pandas as pd\n",
    "import os\n",
    "from pathlib import Path\n",
    "import xarray as xr\n",
    "import numpy as np\n",
    "\n",
    "cwd = Path(os.getcwd())\n",
    "parent_dir = cwd.parent\n",
    "path = Path(parent_dir/'data/Zwalm_data/output_Q/Nederzwalm_Zwalmbeek_Discharge.csv')\n",
    "path_new = Path(parent_dir/'data/Zwalm_data/output_Q/Q_data.pkl')\n",
    "\n",
    "df = pd.read_csv(path, \n",
    "                 sep=';',\n",
    "                 skiprows=7) \n",
    "\n",
    "timestamp_column = df.columns[0]\n",
    "value_column = df.columns[1]\n",
    "\n",
    "df[timestamp_column] = pd.to_datetime(df[timestamp_column], utc = True).dt.date\n",
    "df['Value'] = df['Value'].str.replace(',', '.').astype(float)\n",
    "df_filtered = df.rename(columns={'#Timestamp': 'Timestamp', 'Value' : 'streamflow'})\n",
    "df_filtered = df_filtered[['Timestamp','streamflow']]\n",
    "df_filtered[df_filtered['streamflow'] < 0] = np.nan\n",
    "\n",
    "\n",
    "df_filtered.to_pickle(path_new)"
   ]
  }
 ],
 "metadata": {
  "kernelspec": {
   "display_name": "Python 3",
   "language": "python",
   "name": "python3"
  },
  "language_info": {
   "codemirror_mode": {
    "name": "ipython",
    "version": 3
   },
   "file_extension": ".py",
   "mimetype": "text/x-python",
   "name": "python",
   "nbconvert_exporter": "python",
   "pygments_lexer": "ipython3",
   "version": "3.10.14"
  }
 },
 "nbformat": 4,
 "nbformat_minor": 2
}
