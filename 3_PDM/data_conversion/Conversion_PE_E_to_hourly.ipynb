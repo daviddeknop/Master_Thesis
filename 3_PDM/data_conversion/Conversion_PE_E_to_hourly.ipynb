{
 "cells": [
  {
   "cell_type": "code",
   "execution_count": null,
   "metadata": {},
   "outputs": [],
   "source": [
    "import pandas as pd\n",
    "from pathlib import Path\n",
    "import xarray as xr\n",
    "from datetime import timedelta\n",
    "import os\n",
    "\n",
    "pad = Path(os.getcwd())\n",
    "parent = pad.parent\n",
    "path = parent/'output_caravan'/'timeseries'/'netcdf'/'vlaamsebekken'/'6.nc'\n",
    "df = xr.open_dataset(path)\n",
    "df_df = df.to_dataframe()\n",
    "\n",
    "\n",
    "df_filtered = df_df[['potential_evaporation_sum_FAO_PENMAN_MONTEITH', 'total_precipitation_sum','streamflow']]\n",
    "df_filtered = df_filtered.reset_index(drop = False)\n",
    "df_filtered = df_filtered[df_filtered['date'] >= '1972-06-30']\n",
    "df_filtered = df_filtered.rename(columns={'date': 'Timestamp', 'potential_evaporation_sum_FAO_PENMAN_MONTEITH': 'potential_evaporation_sum'})\n",
    "\n",
    "print(df_filtered)"
   ]
  },
  {
   "cell_type": "code",
   "execution_count": 13,
   "metadata": {},
   "outputs": [],
   "source": [
    "\n",
    "area = 111_639_970.52\n",
    "# Ensure Timestamp is in datetime format\n",
    "df_filtered[\"Timestamp\"] = pd.to_datetime(df_filtered[\"Timestamp\"])\n",
    "df_filtered['streamflow'] = (df_filtered['streamflow']*area)/1000/3600/24\n",
    "# Keep only Timestamp and streamflow\n",
    "df_q = df_filtered[[\"Timestamp\", \"streamflow\"]].copy()\n",
    "\n",
    "# Define path to save\n",
    "path_new = Path(parent / 'data/Zwalm_data/output_Q/Q_data.pkl')\n",
    "\n",
    "# Save as pickle\n",
    "df_q.to_pickle(path_new)\n"
   ]
  },
  {
   "cell_type": "code",
   "execution_count": 5,
   "metadata": {},
   "outputs": [],
   "source": [
    "df_filtered[\"Timestamp\"] = pd.to_datetime(df_filtered[\"Timestamp\"])\n",
    "\n",
    "# Expand each daily row into 24 hourly rows\n",
    "hourly_data = []\n",
    "for _, row in df_filtered.iterrows():\n",
    "    for hour in range(24):\n",
    "        new_row = row.copy()\n",
    "        new_row[\"Timestamp\"] = row[\"Timestamp\"] + timedelta(hours=hour)\n",
    "        new_row[\"potential_evaporation_sum\"] /= 24  # Divide by 24\n",
    "        new_row[\"total_precipitation_sum\"] /= 24  # Divide by 24\n",
    "        hourly_data.append(new_row)\n",
    " \n"
   ]
  },
  {
   "cell_type": "code",
   "execution_count": null,
   "metadata": {},
   "outputs": [],
   "source": [
    "df_hourly = pd.DataFrame(hourly_data)\n",
    "print(df_hourly)"
   ]
  },
  {
   "cell_type": "code",
   "execution_count": 32,
   "metadata": {},
   "outputs": [],
   "source": [
    "output_path = Path('data/Zwalm_data/preprocess_output/Final_Forcings_PDM.pkl')\n",
    "df_hourly.to_pickle(output_path)"
   ]
  }
 ],
 "metadata": {
  "kernelspec": {
   "display_name": "Python 3",
   "language": "python",
   "name": "python3"
  },
  "language_info": {
   "codemirror_mode": {
    "name": "ipython",
    "version": 3
   },
   "file_extension": ".py",
   "mimetype": "text/x-python",
   "name": "python",
   "nbconvert_exporter": "python",
   "pygments_lexer": "ipython3",
   "version": "3.10.14"
  }
 },
 "nbformat": 4,
 "nbformat_minor": 2
}
