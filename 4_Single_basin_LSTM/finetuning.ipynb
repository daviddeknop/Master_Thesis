{
 "cells": [
  {
   "cell_type": "code",
   "execution_count": 1,
   "metadata": {},
   "outputs": [],
   "source": [
    "# Imports\n",
    "from pathlib import Path\n",
    "\n",
    "import pandas as pd\n",
    "import torch\n",
    "from neuralhydrology.nh_run import start_run, eval_run, finetune"
   ]
  },
  {
   "cell_type": "code",
   "execution_count": null,
   "metadata": {},
   "outputs": [],
   "source": [
    "!cat finetune.yml"
   ]
  },
  {
   "cell_type": "code",
   "execution_count": 5,
   "metadata": {},
   "outputs": [],
   "source": [
    "# Add the path to the pre-trained model to the finetune config\n",
    "with open(\"finetune.yml\", \"a\") as fp:\n",
    "    fp.write(f\"\\nbase_run_dir: {run_dir.absolute()}\")\n",
    "    \n",
    "# # Create a basin file with the basin we selected above\n",
    "# with open(\"finetune_basin.txt\", \"w\") as fp:\n",
    "#     fp.write(basin)"
   ]
  },
  {
   "cell_type": "code",
   "execution_count": null,
   "metadata": {
    "scrolled": false
   },
   "outputs": [],
   "source": [
    "finetune(Path(\"finetune.yml\"))"
   ]
  },
  {
   "cell_type": "code",
   "execution_count": null,
   "metadata": {},
   "outputs": [],
   "source": [
    "eval_run(run_dir, period=\"test\")"
   ]
  },
  {
   "cell_type": "code",
   "execution_count": null,
   "metadata": {},
   "outputs": [],
   "source": [
    "finetune_dir = Path(\"runs/...\") # fill in with your created output file\n",
    "eval_run(finetune_dir, period=\"test\")"
   ]
  },
  {
   "cell_type": "markdown",
   "metadata": {},
   "source": [
    "Now let's look at the test period results of the pre-trained base model and the finetuned model for the basin that we chose above."
   ]
  },
  {
   "cell_type": "code",
   "execution_count": null,
   "metadata": {},
   "outputs": [],
   "source": [
    "\n",
    "import pickle\n",
    "from pathlib import Path\n",
    "import pandas as pd\n",
    "import matplotlib.pyplot as plt\n",
    "import torch\n",
    "from neuralhydrology.evaluation import metrics\n",
    "from neuralhydrology.nh_run import start_run, eval_run\n",
    "import matplotlib.dates as mdates\n",
    "import os\n",
    "import numpy as np\n",
    "area = 111639970.52\n",
    "run_dir = Path('runs/...') # fill in with your created output file\n",
    "for i in range(1, 51):\n",
    "    eval_run(epoch = i,run_dir=run_dir, period=\"test\")\n",
    "\n",
    "# Initialize variables to track the best NSE and the corresponding epoch\n",
    "max_nse = -float('inf')  # Set to negative infinity initially\n",
    "best_epoch = None\n",
    "\n",
    "# Loop through epochs 1 to 50\n",
    "for i in range(1, 51):  # Epochs 1 to 50\n",
    "    # Format the folder name for the current epoch\n",
    "    epoch_folder = finetune_dir/ \"test\"/ f\"model_epoch{i:03d}\"\n",
    "    metrics_file = epoch_folder / \"test_metrics.csv\"\n",
    "\n",
    "    # Check if the test_metrics.csv file exists\n",
    "    if not metrics_file.exists():\n",
    "        print(f\"test_metrics.csv file not found for epoch {i}. Skipping...\")\n",
    "        continue\n",
    "\n",
    "    # Load the CSV file into a DataFrame\n",
    "    df = pd.read_csv(metrics_file)\n",
    "\n",
    "    # Extract the NSE value from the dataframe (assuming NSE is in a column named 'NSE')\n",
    "    if 'NSE' in df.columns:\n",
    "        nse_value = df['NSE'].iloc[0]  \n",
    "        print(f\"Epoch {i}: NSE = {nse_value:.4f}\")\n",
    "\n",
    "        # Check if this is the highest NSE found so far\n",
    "        if nse_value > max_nse:\n",
    "            max_nse = nse_value\n",
    "            best_epoch = i\n",
    "\n",
    "# Output the best epoch and its NSE value\n",
    "if best_epoch is not None:\n",
    "    print(f\"\\nThe epoch with the highest NSE is Epoch {best_epoch} with an NSE value of {max_nse:.4f}\")\n",
    "else:\n",
    "    print(\"No NSE values found.\")\n",
    "\n",
    "\n",
    "with open(finetune_dir / \"test\" / \"model_epoch...\" / \"test_results.p\", \"rb\") as fp: # fill in with your best epoch\n",
    "    results = pickle.load(fp)\n",
    "qobs = results['6']['1D']['xr']['streamflow_obs']*area/(1000*3600*24)\n",
    "qsim = results['6']['1D']['xr']['streamflow_sim']*area/(1000*3600*24)\n",
    "\n",
    "fig, ax = plt.subplots(figsize=(16,10))\n",
    "ax.plot(qobs['date'], qobs)\n",
    "ax.plot(qsim['date'], qsim)\n",
    "ax.set_ylabel(\"Discharge (m³/s)\")\n",
    "\n",
    "    #data properties\n",
    "\n",
    "values = metrics.calculate_all_metrics(qobs.isel(time_step=-1), qsim.isel(time_step=-1))\n",
    "for key, val in values.items():\n",
    "    print(f\"{key}: {val:.3f}\")"
   ]
  },
  {
   "cell_type": "code",
   "execution_count": null,
   "metadata": {},
   "outputs": [],
   "source": [
    "plt.figure(figsize=(6.3, 3.5))\n",
    "\n",
    "# Plot observed streamflow\n",
    "plt.plot(qobs['date'], qobs, label='Observed Discharge', color='blue', linewidth=1)\n",
    "\n",
    "# Plot simulated streamflow\n",
    "plt.plot(qobs['date'], qsim, label='Simulated Discharge', color='red', linewidth = 1)\n",
    "\n",
    "# Add axis labels and styling\n",
    "plt.xlabel('Date', fontsize=12)\n",
    "plt.ylabel('Discharge (m³/s)', fontsize=12)\n",
    "plt.grid(True, linestyle='--', alpha=0.7)\n",
    "plt.tight_layout()\n",
    "plt.xticks(rotation=45)\n",
    "plt.style.use('seaborn-v0_8-whitegrid')\n",
    "\n",
    "# Add legend\n",
    "plt.legend(frameon=True, edgecolor='black')\n",
    "plt.savefig(\"Final_output_finetuned_single.png\", dpi=1000, bbox_inches='tight') \n",
    "# Show plot\n",
    "plt.show()"
   ]
  },
  {
   "cell_type": "code",
   "execution_count": null,
   "metadata": {},
   "outputs": [],
   "source": [
    "print(qobs)\n",
    "print(qsim)\n",
    "qsim_avg = qsim.mean(skipna = True)\n",
    "qobs_avg = qobs.mean(skipna=True)\n",
    "print(qsim_avg)\n",
    "print(qobs_avg)\n",
    "qsim_avg.values/qobs_avg.values"
   ]
  },
  {
   "cell_type": "code",
   "execution_count": 15,
   "metadata": {},
   "outputs": [],
   "source": [
    "def NSE_LF(Qmod, Qobs):\n",
    "    \"\"\"\n",
    "    Calculate the low-flow Nash-Sutcliffe Efficiency (NSE_LF) using inverse flows.\n",
    "    This variant of NSE emphasizes performance during low-flow periods.\n",
    "\n",
    "    Only calculates for timestamps where no NaN values are present in the observed flows.\n",
    "\n",
    "    Parameters\n",
    "    ----------\n",
    "    Qmod: numpy.array\n",
    "        Modelled flows\n",
    "    Qobs: numpy.array\n",
    "        Observed flows\n",
    "\n",
    "    Returns\n",
    "    -------\n",
    "    nse_lf: float\n",
    "        Low-flow Nash-Sutcliffe Efficiency\n",
    "\n",
    "    \"\"\"\n",
    "    nan_bool = np.isnan(Qobs)\n",
    "    Qmod_nonan = Qmod[~nan_bool]\n",
    "    Qobs_nonan = Qobs[~nan_bool]\n",
    "\n",
    "    # Avoid division by zero using epsilon (1/100th of mean observed flow)\n",
    "    epsilon = np.mean(Qobs_nonan) / 100\n",
    "\n",
    "    Qmod_inv = 1 / (Qmod_nonan + epsilon)\n",
    "    Qobs_inv = 1 / (Qobs_nonan + epsilon)\n",
    "\n",
    "    T = (Qobs_inv - Qmod_inv) ** 2\n",
    "    N = (Qobs_inv - np.mean(Qobs_inv)) ** 2\n",
    "\n",
    "    nse_lf = 1 - np.sum(T) / np.sum(N)\n",
    "    return nse_lf"
   ]
  },
  {
   "cell_type": "code",
   "execution_count": null,
   "metadata": {},
   "outputs": [],
   "source": [
    "NSE_LF(qsim.values, qobs.values)"
   ]
  }
 ],
 "metadata": {
  "kernelspec": {
   "display_name": "Python 3",
   "language": "python",
   "name": "python3"
  },
  "language_info": {
   "codemirror_mode": {
    "name": "ipython",
    "version": 3
   },
   "file_extension": ".py",
   "mimetype": "text/x-python",
   "name": "python",
   "nbconvert_exporter": "python",
   "pygments_lexer": "ipython3",
   "version": "3.10.15"
  }
 },
 "nbformat": 4,
 "nbformat_minor": 4
}
