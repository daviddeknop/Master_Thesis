{
 "cells": [
  {
   "cell_type": "code",
   "execution_count": 21,
   "metadata": {},
   "outputs": [
    {
     "name": "stdout",
     "output_type": "stream",
     "text": [
      "       Timestamp  potential_evaporation_sum  total_precipitation_sum\n",
      "8215  1972-06-30                       1.83                     4.11\n",
      "8216  1972-07-01                       1.32                     5.46\n",
      "8217  1972-07-02                       1.55                     5.45\n",
      "8218  1972-07-03                       2.25                     3.05\n",
      "8219  1972-07-04                       2.33                     0.60\n",
      "...          ...                        ...                      ...\n",
      "26657 2022-12-27                       0.06                     0.41\n",
      "26658 2022-12-28                       0.72                     4.30\n",
      "26659 2022-12-29                       0.70                     2.67\n",
      "26660 2022-12-30                       0.20                     6.77\n",
      "26661 2022-12-31                       1.52                     8.56\n",
      "\n",
      "[18447 rows x 3 columns]\n"
     ]
    }
   ],
   "source": [
    "import pandas as pd\n",
    "from pathlib import Path\n",
    "import xarray as xr\n",
    "from datetime import timedelta\n",
    "\n",
    "path = Path('output_caravan/timeseries/netcdf/vlaamsebekken/6.nc')\n",
    "df = xr.open_dataset(path)\n",
    "df_df = df.to_dataframe()\n",
    "\n",
    "\n",
    "df_filtered = df_df[['potential_evaporation_sum_FAO_PENMAN_MONTEITH', 'total_precipitation_sum']]\n",
    "df_filtered = df_filtered.reset_index(drop = False)\n",
    "df_filtered = df_filtered[df_filtered['date'] >= '1972-06-30']\n",
    "df_filtered = df_filtered.rename(columns={'date': 'Timestamp', 'potential_evaporation_sum_FAO_PENMAN_MONTEITH': 'potential_evaporation_sum'})\n",
    "\n",
    "print(df_filtered)"
   ]
  },
  {
   "cell_type": "code",
   "execution_count": null,
   "metadata": {},
   "outputs": [],
   "source": [
    "df_filtered[\"Timestamp\"] = pd.to_datetime(df_filtered[\"Timestamp\"])\n",
    "\n",
    "# Expand each daily row into 24 hourly rows\n",
    "hourly_data = []\n",
    "for _, row in df_filtered.iterrows():\n",
    "    for hour in range(24):\n",
    "        new_row = row.copy()\n",
    "        new_row[\"Timestamp\"] = row[\"Timestamp\"] + timedelta(hours=hour)\n",
    "        new_row[\"potential_evaporation_sum\"] /= 24  # Divide by 24\n",
    "        new_row[\"total_precipitation_sum\"] /= 24  # Divide by 24\n",
    "        hourly_data.append(new_row)\n",
    " \n"
   ]
  },
  {
   "cell_type": "code",
   "execution_count": 29,
   "metadata": {},
   "outputs": [
    {
     "name": "stdout",
     "output_type": "stream",
     "text": [
      "                Timestamp  potential_evaporation_sum  total_precipitation_sum\n",
      "8215  1972-06-30 00:00:00                   0.076250                 0.171250\n",
      "8215  1972-06-30 01:00:00                   0.076250                 0.171250\n",
      "8215  1972-06-30 02:00:00                   0.076250                 0.171250\n",
      "8215  1972-06-30 03:00:00                   0.076250                 0.171250\n",
      "8215  1972-06-30 04:00:00                   0.076250                 0.171250\n",
      "...                   ...                        ...                      ...\n",
      "26661 2022-12-31 19:00:00                   0.063333                 0.356667\n",
      "26661 2022-12-31 20:00:00                   0.063333                 0.356667\n",
      "26661 2022-12-31 21:00:00                   0.063333                 0.356667\n",
      "26661 2022-12-31 22:00:00                   0.063333                 0.356667\n",
      "26661 2022-12-31 23:00:00                   0.063333                 0.356667\n",
      "\n",
      "[442728 rows x 3 columns]\n"
     ]
    }
   ],
   "source": [
    "df_hourly = pd.DataFrame(hourly_data)\n",
    "print(df_hourly)"
   ]
  },
  {
   "cell_type": "code",
   "execution_count": 32,
   "metadata": {},
   "outputs": [],
   "source": [
    "output_path = Path('data/Zwalm_data/preprocess_output/Final_Forcings_PDM.pkl')\n",
    "df_hourly.to_pickle(output_path)"
   ]
  }
 ],
 "metadata": {
  "kernelspec": {
   "display_name": "thesis",
   "language": "python",
   "name": "python3"
  },
  "language_info": {
   "codemirror_mode": {
    "name": "ipython",
    "version": 3
   },
   "file_extension": ".py",
   "mimetype": "text/x-python",
   "name": "python",
   "nbconvert_exporter": "python",
   "pygments_lexer": "ipython3",
   "version": "3.10.14"
  }
 },
 "nbformat": 4,
 "nbformat_minor": 2
}
