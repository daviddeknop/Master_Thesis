{
 "cells": [
  {
   "cell_type": "code",
   "execution_count": 7,
   "metadata": {},
   "outputs": [
    {
     "name": "stdout",
     "output_type": "stream",
     "text": [
      "            streamflow\n",
      "1972-06-30       0.236\n",
      "1972-07-01       0.290\n",
      "1972-07-02       0.339\n",
      "1972-07-03       0.362\n",
      "1972-07-04       0.354\n",
      "       Timestamp  streamflow\n",
      "0     1972-06-30       0.236\n",
      "1     1972-07-01       0.290\n",
      "2     1972-07-02       0.339\n",
      "3     1972-07-03       0.362\n",
      "4     1972-07-04       0.354\n",
      "...          ...         ...\n",
      "18442 2022-12-27       1.290\n",
      "18443 2022-12-28       1.580\n",
      "18444 2022-12-29       1.700\n",
      "18445 2022-12-30       4.210\n",
      "18446 2022-12-31       1.710\n",
      "\n",
      "[18447 rows x 2 columns]\n"
     ]
    }
   ],
   "source": [
    "import pandas as pd\n",
    "\n",
    "# File path to the Q_data.pkl\n",
    "file_path = r'E:\\Users\\ddknop\\PDM_finaal_EP\\master_thesis\\data\\Zwalm_data\\output_Q\\Q_data.pkl'\n",
    "\n",
    "# Load the pickle file into a DataFrame\n",
    "q_data = pd.read_pickle(file_path)\n",
    "\n",
    "# Display the first few rows of the DataFrame\n",
    "print(q_data.head())\n",
    "\n",
    "\n",
    "# Reset the index to make 'Timestamp' a column again\n",
    "q_data.reset_index(inplace=True)\n",
    "\n",
    "# Rename the index column back to 'Timestamp'\n",
    "q_data.rename(columns={'index': 'Timestamp'}, inplace=True)\n",
    "\n",
    "# Display the updated DataFrame\n",
    "print(q_data)\n"
   ]
  },
  {
   "cell_type": "code",
   "execution_count": 8,
   "metadata": {},
   "outputs": [],
   "source": [
    "q_data.to_pickle(r'E:\\Users\\ddknop\\PDM_finaal_EP\\master_thesis\\data\\Zwalm_data\\output_Q\\Q_data.pkl')\n"
   ]
  }
 ],
 "metadata": {
  "kernelspec": {
   "display_name": "Python 3",
   "language": "python",
   "name": "python3"
  },
  "language_info": {
   "codemirror_mode": {
    "name": "ipython",
    "version": 3
   },
   "file_extension": ".py",
   "mimetype": "text/x-python",
   "name": "python",
   "nbconvert_exporter": "python",
   "pygments_lexer": "ipython3",
   "version": "3.10.14"
  }
 },
 "nbformat": 4,
 "nbformat_minor": 2
}
