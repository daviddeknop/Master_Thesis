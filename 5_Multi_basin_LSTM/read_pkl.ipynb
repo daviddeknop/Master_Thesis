{
 "cells": [
  {
   "cell_type": "code",
   "execution_count": null,
   "metadata": {},
   "outputs": [],
   "source": [
    "import pickle\n",
    "\n",
    "# Function to load the .pkl file and save as a .txt file\n",
    "def convert_pkl_to_txt(pkl_file, txt_file):\n",
    "    try:\n",
    "        # Load the .pkl file\n",
    "        with open(pkl_file, 'rb') as f:\n",
    "            data = pickle.load(f)\n",
    "        \n",
    "        # Write data to .txt file\n",
    "        with open(txt_file, 'w') as f:\n",
    "            if isinstance(data, (list, dict)):\n",
    "                # Convert list or dict to string and write\n",
    "                f.write(str(data))\n",
    "            elif isinstance(data, pd.DataFrame):\n",
    "                # Write DataFrame to txt in tabular format\n",
    "                data.to_csv(f, sep='\\t', index=False)\n",
    "            else:\n",
    "                # Default write for other data types\n",
    "                f.write(str(data))\n",
    "        \n",
    "        print(f\"Data successfully written to {txt_file}\")\n",
    "    except Exception as e:\n",
    "        print(f\"Error: {e}\")\n",
    "\n",
    "\n"
   ]
  },
  {
   "cell_type": "code",
   "execution_count": 5,
   "metadata": {},
   "outputs": [],
   "source": [
    "import pickle\n",
    "import pandas as pd\n",
    "\n",
    "# Function to load a .pkl file and convert it to a Pandas DataFrame\n",
    "def pkl_to_dataframe(pkl_file):\n",
    "    try:\n",
    "        # Load the .pkl file\n",
    "        with open(pkl_file, 'rb') as f:\n",
    "            data = pickle.load(f)\n",
    "        \n",
    "        # Convert the data to a Pandas DataFrame\n",
    "        if isinstance(data, pd.DataFrame):\n",
    "            df = data  # If it's already a DataFrame\n",
    "        else:\n",
    "            df = pd.DataFrame(data)  # Attempt to convert to a DataFrame\n",
    "        \n",
    "        print(\"Data successfully converted to a DataFrame.\")\n",
    "        return df\n",
    "    except Exception as e:\n",
    "        print(f\"Error: {e}\")\n",
    "        return None\n",
    "\n",
    "\n",
    "\n",
    "\n"
   ]
  },
  {
   "cell_type": "code",
   "execution_count": null,
   "metadata": {},
   "outputs": [],
   "source": [
    "# Example usage\n",
    "pkl_file = 'train_Zwalm.pkl'  # Replace with your .pkl file path\n",
    "df = pkl_to_dataframe(pkl_file)\n",
    "print(df)"
   ]
  },
  {
   "cell_type": "code",
   "execution_count": null,
   "metadata": {},
   "outputs": [],
   "source": [
    "# Example usage\n",
    "pkl_file = 'per_basin_train_periods_US.pkl'  # Replace with your .pkl file path\n",
    "df = pkl_to_dataframe(pkl_file)\n",
    "print(df)\n",
    "\n",
    "if 6 in df.columns:\n",
    "    print(df[6])\n",
    "else:\n",
    "    print(\"Column '6' is not found in the DataFrame.\")"
   ]
  },
  {
   "cell_type": "code",
   "execution_count": null,
   "metadata": {},
   "outputs": [],
   "source": [
    "# Example usage\n",
    "pkl_file = 'per_basin_validation_periods_US.pkl'  # Replace with your .pkl file path\n",
    "df = pkl_to_dataframe(pkl_file)\n",
    "print(df)"
   ]
  }
 ],
 "metadata": {
  "kernelspec": {
   "display_name": "neuralhydrology",
   "language": "python",
   "name": "python3"
  },
  "language_info": {
   "codemirror_mode": {
    "name": "ipython",
    "version": 3
   },
   "file_extension": ".py",
   "mimetype": "text/x-python",
   "name": "python",
   "nbconvert_exporter": "python",
   "pygments_lexer": "ipython3",
   "version": "3.10.15"
  }
 },
 "nbformat": 4,
 "nbformat_minor": 2
}
