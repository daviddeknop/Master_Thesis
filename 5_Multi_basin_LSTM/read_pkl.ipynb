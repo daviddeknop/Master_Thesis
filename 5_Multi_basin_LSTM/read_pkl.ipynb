{
 "cells": [
  {
   "cell_type": "code",
   "execution_count": 1,
   "metadata": {},
   "outputs": [
    {
     "name": "stdout",
     "output_type": "stream",
     "text": [
      "Data successfully written to train_Zwalm.txt\n"
     ]
    }
   ],
   "source": [
    "import pickle\n",
    "\n",
    "# Function to load the .pkl file and save as a .txt file\n",
    "def convert_pkl_to_txt(pkl_file, txt_file):\n",
    "    try:\n",
    "        # Load the .pkl file\n",
    "        with open(pkl_file, 'rb') as f:\n",
    "            data = pickle.load(f)\n",
    "        \n",
    "        # Write data to .txt file\n",
    "        with open(txt_file, 'w') as f:\n",
    "            if isinstance(data, (list, dict)):\n",
    "                # Convert list or dict to string and write\n",
    "                f.write(str(data))\n",
    "            elif isinstance(data, pd.DataFrame):\n",
    "                # Write DataFrame to txt in tabular format\n",
    "                data.to_csv(f, sep='\\t', index=False)\n",
    "            else:\n",
    "                # Default write for other data types\n",
    "                f.write(str(data))\n",
    "        \n",
    "        print(f\"Data successfully written to {txt_file}\")\n",
    "    except Exception as e:\n",
    "        print(f\"Error: {e}\")\n",
    "\n",
    "\n"
   ]
  },
  {
   "cell_type": "code",
   "execution_count": 5,
   "metadata": {},
   "outputs": [],
   "source": [
    "import pickle\n",
    "import pandas as pd\n",
    "\n",
    "# Function to load a .pkl file and convert it to a Pandas DataFrame\n",
    "def pkl_to_dataframe(pkl_file):\n",
    "    try:\n",
    "        # Load the .pkl file\n",
    "        with open(pkl_file, 'rb') as f:\n",
    "            data = pickle.load(f)\n",
    "        \n",
    "        # Convert the data to a Pandas DataFrame\n",
    "        if isinstance(data, pd.DataFrame):\n",
    "            df = data  # If it's already a DataFrame\n",
    "        else:\n",
    "            df = pd.DataFrame(data)  # Attempt to convert to a DataFrame\n",
    "        \n",
    "        print(\"Data successfully converted to a DataFrame.\")\n",
    "        return df\n",
    "    except Exception as e:\n",
    "        print(f\"Error: {e}\")\n",
    "        return None\n",
    "\n",
    "\n",
    "\n",
    "\n"
   ]
  },
  {
   "cell_type": "code",
   "execution_count": 13,
   "metadata": {},
   "outputs": [
    {
     "name": "stdout",
     "output_type": "stream",
     "text": [
      "Data successfully converted to a DataFrame.\n",
      "                                 6               10026301  \\\n",
      "start_dates  [1972-06-30 00:00:00]  [1972-06-30 00:00:00]   \n",
      "end_dates    [2012-11-24 00:00:00]  [2012-11-24 00:00:00]   \n",
      "\n",
      "                          10035801               10039802  \\\n",
      "start_dates  [1972-06-30 00:00:00]  [1972-06-30 00:00:00]   \n",
      "end_dates    [2012-11-24 00:00:00]  [2012-11-24 00:00:00]   \n",
      "\n",
      "                          10046105               10053009  \\\n",
      "start_dates  [1972-06-30 00:00:00]  [1972-06-30 00:00:00]   \n",
      "end_dates    [2012-11-24 00:00:00]  [2012-11-24 00:00:00]   \n",
      "\n",
      "                          10062000               10078000  \\\n",
      "start_dates  [1972-06-30 00:00:00]  [1972-06-30 00:00:00]   \n",
      "end_dates    [2012-11-24 00:00:00]  [2012-11-24 00:00:00]   \n",
      "\n",
      "                          10088003                    105  ...  \\\n",
      "start_dates  [1972-06-30 00:00:00]  [1972-06-30 00:00:00]  ...   \n",
      "end_dates    [2012-11-24 00:00:00]  [2012-11-24 00:00:00]  ...   \n",
      "\n",
      "                               403                  47834  \\\n",
      "start_dates  [1972-06-30 00:00:00]  [1972-06-30 00:00:00]   \n",
      "end_dates    [2012-11-24 00:00:00]  [2012-11-24 00:00:00]   \n",
      "\n",
      "                             47840                  76175  \\\n",
      "start_dates  [1972-06-30 00:00:00]  [1972-06-30 00:00:00]   \n",
      "end_dates    [2012-11-24 00:00:00]  [2012-11-24 00:00:00]   \n",
      "\n",
      "                             76176                  76184  \\\n",
      "start_dates  [1972-06-30 00:00:00]  [1972-06-30 00:00:00]   \n",
      "end_dates    [2012-11-24 00:00:00]  [2012-11-24 00:00:00]   \n",
      "\n",
      "                             76185                  76266  \\\n",
      "start_dates  [1972-06-30 00:00:00]  [1972-06-30 00:00:00]   \n",
      "end_dates    [2012-11-24 00:00:00]  [2012-11-24 00:00:00]   \n",
      "\n",
      "                             76276                  76290  \n",
      "start_dates  [1972-06-30 00:00:00]  [1972-06-30 00:00:00]  \n",
      "end_dates    [2012-11-24 00:00:00]  [2012-11-24 00:00:00]  \n",
      "\n",
      "[2 rows x 860 columns]\n",
      "Column '6' is not found in the DataFrame.\n"
     ]
    }
   ],
   "source": [
    "# Example usage\n",
    "pkl_file = 'per_basin_train_periods_EU.pkl'  # Replace with your .pkl file path\n",
    "df = pkl_to_dataframe(pkl_file)\n",
    "print(df)\n",
    "\n",
    "if 6 in df.columns:\n",
    "    print(df[6])\n",
    "else:\n",
    "    print(\"Column '6' is not found in the DataFrame.\")\n"
   ]
  },
  {
   "cell_type": "code",
   "execution_count": 14,
   "metadata": {},
   "outputs": [
    {
     "name": "stdout",
     "output_type": "stream",
     "text": [
      "Data successfully converted to a DataFrame.\n",
      "                                 6               10026301  \\\n",
      "start_dates  [2012-11-25 00:00:00]  [2012-11-25 00:00:00]   \n",
      "end_dates    [2017-12-14 00:00:00]  [2022-12-31 00:00:00]   \n",
      "\n",
      "                          10035801               10039802  \\\n",
      "start_dates  [2012-11-25 00:00:00]  [2012-11-25 00:00:00]   \n",
      "end_dates    [2022-12-31 00:00:00]  [2022-12-31 00:00:00]   \n",
      "\n",
      "                          10046105               10053009  \\\n",
      "start_dates  [2012-11-25 00:00:00]  [2012-11-25 00:00:00]   \n",
      "end_dates    [2022-12-31 00:00:00]  [2022-12-31 00:00:00]   \n",
      "\n",
      "                          10062000               10078000  \\\n",
      "start_dates  [2012-11-25 00:00:00]  [2012-11-25 00:00:00]   \n",
      "end_dates    [2022-12-31 00:00:00]  [2022-12-31 00:00:00]   \n",
      "\n",
      "                          10088003                    105  ...  \\\n",
      "start_dates  [2012-11-25 00:00:00]  [2012-11-25 00:00:00]  ...   \n",
      "end_dates    [2022-12-31 00:00:00]  [2022-12-31 00:00:00]  ...   \n",
      "\n",
      "                               403                  47834  \\\n",
      "start_dates  [2012-11-25 00:00:00]  [2012-11-25 00:00:00]   \n",
      "end_dates    [2022-12-31 00:00:00]  [2022-12-31 00:00:00]   \n",
      "\n",
      "                             47840                  76175  \\\n",
      "start_dates  [2012-11-25 00:00:00]  [2012-11-25 00:00:00]   \n",
      "end_dates    [2022-12-31 00:00:00]  [2022-12-31 00:00:00]   \n",
      "\n",
      "                             76176                  76184  \\\n",
      "start_dates  [2012-11-25 00:00:00]  [2012-11-25 00:00:00]   \n",
      "end_dates    [2022-12-31 00:00:00]  [2022-12-31 00:00:00]   \n",
      "\n",
      "                             76185                  76266  \\\n",
      "start_dates  [2012-11-25 00:00:00]  [2012-11-25 00:00:00]   \n",
      "end_dates    [2022-12-31 00:00:00]  [2022-12-31 00:00:00]   \n",
      "\n",
      "                             76276                  76290  \n",
      "start_dates  [2012-11-25 00:00:00]  [2012-11-25 00:00:00]  \n",
      "end_dates    [2022-12-31 00:00:00]  [2022-12-31 00:00:00]  \n",
      "\n",
      "[2 rows x 860 columns]\n"
     ]
    }
   ],
   "source": [
    "# Example usage\n",
    "pkl_file = 'per_basin_validation_periods_EU.pkl'  # Replace with your .pkl file path\n",
    "df = pkl_to_dataframe(pkl_file)\n",
    "print(df)"
   ]
  },
  {
   "cell_type": "code",
   "execution_count": 18,
   "metadata": {},
   "outputs": [
    {
     "name": "stdout",
     "output_type": "stream",
     "text": [
      "Data successfully converted to a DataFrame.\n",
      "                                 6\n",
      "start_dates  [2017-12-15 00:00:00]\n",
      "end_dates    [2022-12-31 00:00:00]\n"
     ]
    }
   ],
   "source": [
    "# Example usage\n",
    "pkl_file = 'train_Zwalm.pkl'  # Replace with your .pkl file path\n",
    "df = pkl_to_dataframe(pkl_file)\n",
    "print(df)"
   ]
  },
  {
   "cell_type": "code",
   "execution_count": 19,
   "metadata": {},
   "outputs": [
    {
     "name": "stdout",
     "output_type": "stream",
     "text": [
      "Data successfully converted to a DataFrame.\n",
      "                                 6               91013500  \\\n",
      "start_dates  [1972-06-30 00:00:00]  [1972-06-30 00:00:00]   \n",
      "end_dates    [2012-11-24 00:00:00]  [2012-11-24 00:00:00]   \n",
      "\n",
      "                          91022500               91030500  \\\n",
      "start_dates  [1972-06-30 00:00:00]  [1972-06-30 00:00:00]   \n",
      "end_dates    [2012-11-24 00:00:00]  [2012-11-24 00:00:00]   \n",
      "\n",
      "                          91031500               91047000  \\\n",
      "start_dates  [1972-06-30 00:00:00]  [1972-06-30 00:00:00]   \n",
      "end_dates    [2012-11-24 00:00:00]  [2012-11-24 00:00:00]   \n",
      "\n",
      "                          91052500               91054200  \\\n",
      "start_dates  [1972-06-30 00:00:00]  [1972-06-30 00:00:00]   \n",
      "end_dates    [2012-11-24 00:00:00]  [2012-11-24 00:00:00]   \n",
      "\n",
      "                          91055000               91057000  ...  \\\n",
      "start_dates  [1972-06-30 00:00:00]  [1972-06-30 00:00:00]  ...   \n",
      "end_dates    [2012-11-24 00:00:00]  [2012-11-24 00:00:00]  ...   \n",
      "\n",
      "                          14303200               14305500  \\\n",
      "start_dates  [1972-06-30 00:00:00]  [1972-06-30 00:00:00]   \n",
      "end_dates    [2012-11-24 00:00:00]  [2012-11-24 00:00:00]   \n",
      "\n",
      "                          14306340               14306500  \\\n",
      "start_dates  [1972-06-30 00:00:00]  [1972-06-30 00:00:00]   \n",
      "end_dates    [2012-11-24 00:00:00]  [2012-11-24 00:00:00]   \n",
      "\n",
      "                          14308990               14309500  \\\n",
      "start_dates  [1972-06-30 00:00:00]  [1972-06-30 00:00:00]   \n",
      "end_dates    [2012-11-24 00:00:00]  [2012-11-24 00:00:00]   \n",
      "\n",
      "                          14316700               14325000  \\\n",
      "start_dates  [1972-06-30 00:00:00]  [1972-06-30 00:00:00]   \n",
      "end_dates    [2012-11-24 00:00:00]  [2012-11-24 00:00:00]   \n",
      "\n",
      "                          14362250               14400000  \n",
      "start_dates  [1972-06-30 00:00:00]  [1972-06-30 00:00:00]  \n",
      "end_dates    [2012-11-24 00:00:00]  [2012-11-24 00:00:00]  \n",
      "\n",
      "[2 rows x 672 columns]\n",
      "Column '6' is not found in the DataFrame.\n"
     ]
    }
   ],
   "source": [
    "# Example usage\n",
    "pkl_file = 'per_basin_train_periods_US.pkl'  # Replace with your .pkl file path\n",
    "df = pkl_to_dataframe(pkl_file)\n",
    "print(df)\n",
    "\n",
    "if 6 in df.columns:\n",
    "    print(df[6])\n",
    "else:\n",
    "    print(\"Column '6' is not found in the DataFrame.\")"
   ]
  },
  {
   "cell_type": "code",
   "execution_count": 20,
   "metadata": {},
   "outputs": [
    {
     "name": "stdout",
     "output_type": "stream",
     "text": [
      "Data successfully converted to a DataFrame.\n",
      "                                 6               91013500  \\\n",
      "start_dates  [2012-11-25 00:00:00]  [2012-11-25 00:00:00]   \n",
      "end_dates    [2017-12-14 00:00:00]  [2022-12-31 00:00:00]   \n",
      "\n",
      "                          91022500               91030500  \\\n",
      "start_dates  [2012-11-25 00:00:00]  [2012-11-25 00:00:00]   \n",
      "end_dates    [2022-12-31 00:00:00]  [2022-12-31 00:00:00]   \n",
      "\n",
      "                          91031500               91047000  \\\n",
      "start_dates  [2012-11-25 00:00:00]  [2012-11-25 00:00:00]   \n",
      "end_dates    [2022-12-31 00:00:00]  [2022-12-31 00:00:00]   \n",
      "\n",
      "                          91052500               91054200  \\\n",
      "start_dates  [2012-11-25 00:00:00]  [2012-11-25 00:00:00]   \n",
      "end_dates    [2022-12-31 00:00:00]  [2022-12-31 00:00:00]   \n",
      "\n",
      "                          91055000               91057000  ...  \\\n",
      "start_dates  [2012-11-25 00:00:00]  [2012-11-25 00:00:00]  ...   \n",
      "end_dates    [2022-12-31 00:00:00]  [2022-12-31 00:00:00]  ...   \n",
      "\n",
      "                          14303200               14305500  \\\n",
      "start_dates  [2012-11-25 00:00:00]  [2012-11-25 00:00:00]   \n",
      "end_dates    [2022-12-31 00:00:00]  [2022-12-31 00:00:00]   \n",
      "\n",
      "                          14306340               14306500  \\\n",
      "start_dates  [2012-11-25 00:00:00]  [2012-11-25 00:00:00]   \n",
      "end_dates    [2022-12-31 00:00:00]  [2022-12-31 00:00:00]   \n",
      "\n",
      "                          14308990               14309500  \\\n",
      "start_dates  [2012-11-25 00:00:00]  [2012-11-25 00:00:00]   \n",
      "end_dates    [2022-12-31 00:00:00]  [2022-12-31 00:00:00]   \n",
      "\n",
      "                          14316700               14325000  \\\n",
      "start_dates  [2012-11-25 00:00:00]  [2012-11-25 00:00:00]   \n",
      "end_dates    [2022-12-31 00:00:00]  [2022-12-31 00:00:00]   \n",
      "\n",
      "                          14362250               14400000  \n",
      "start_dates  [2012-11-25 00:00:00]  [2012-11-25 00:00:00]  \n",
      "end_dates    [2022-12-31 00:00:00]  [2022-12-31 00:00:00]  \n",
      "\n",
      "[2 rows x 672 columns]\n"
     ]
    }
   ],
   "source": [
    "# Example usage\n",
    "pkl_file = 'per_basin_validation_periods_US.pkl'  # Replace with your .pkl file path\n",
    "df = pkl_to_dataframe(pkl_file)\n",
    "print(df)"
   ]
  }
 ],
 "metadata": {
  "kernelspec": {
   "display_name": "neuralhydrology",
   "language": "python",
   "name": "python3"
  },
  "language_info": {
   "codemirror_mode": {
    "name": "ipython",
    "version": 3
   },
   "file_extension": ".py",
   "mimetype": "text/x-python",
   "name": "python",
   "nbconvert_exporter": "python",
   "pygments_lexer": "ipython3",
   "version": "3.10.15"
  }
 },
 "nbformat": 4,
 "nbformat_minor": 2
}
