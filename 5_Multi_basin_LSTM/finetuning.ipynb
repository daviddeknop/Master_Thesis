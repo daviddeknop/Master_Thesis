{
 "cells": [
  {
   "cell_type": "code",
   "execution_count": 1,
   "metadata": {},
   "outputs": [],
   "source": [
    "# Imports\n",
    "from pathlib import Path\n",
    "\n",
    "import pandas as pd\n",
    "import torch\n",
    "from neuralhydrology.nh_run import start_run, eval_run, finetune"
   ]
  },
  {
   "cell_type": "code",
   "execution_count": null,
   "metadata": {
    "scrolled": false
   },
   "outputs": [],
   "source": [
    "finetune(Path(\"finetune.yml\"))"
   ]
  },
  {
   "cell_type": "code",
   "execution_count": null,
   "metadata": {},
   "outputs": [],
   "source": [
    "import pickle\n",
    "from pathlib import Path\n",
    "import pandas as pd\n",
    "import matplotlib.pyplot as plt\n",
    "import torch\n",
    "from neuralhydrology.evaluation import metrics\n",
    "from neuralhydrology.nh_run import start_run, eval_run\n",
    "area = 111639970.52\n",
    "#evaluate model\n",
    "run_dir = Path('runs/...') # fill in with output folder name\n",
    "for i in range(1, 21):\n",
    "    eval_run(epoch = i,run_dir=run_dir, period=\"test\")\n",
    "\n",
    "# Base directory containing the test results\n",
    "base_dir = Path('runs/...') # fill in with output folder name\n",
    "\n",
    "# Initialize variables to track the best NSE and the corresponding epoch\n",
    "max_nse = -float('inf')  # Set to negative infinity initially\n",
    "best_epoch = None\n",
    "\n",
    "# Loop through epochs 1 to 50\n",
    "for i in range(1, 21):  # Epochs 1 to 50\n",
    "    # Format the folder name for the current epoch\n",
    "    epoch_folder = base_dir / f\"model_epoch{i:03d}\"\n",
    "    metrics_file = epoch_folder / \"test_metrics.csv\"\n",
    "\n",
    "    # Check if the test_metrics.csv file exists\n",
    "    if not metrics_file.exists():\n",
    "        print(f\"test_metrics.csv file not found for epoch {i}. Skipping...\")\n",
    "        continue\n",
    "\n",
    "    # Load the CSV file into a DataFrame\n",
    "    df = pd.read_csv(metrics_file)\n",
    "\n",
    "    # Extract the NSE value from the dataframe (assuming NSE is in a column named 'NSE')\n",
    "    if 'NSE' in df.columns:\n",
    "        nse_value = df['NSE'].iloc[0]  # Assuming NSE is on the first row\n",
    "        print(f\"Epoch {i}: NSE = {nse_value:.4f}\")\n",
    "\n",
    "        # Check if this is the highest NSE found so far\n",
    "        if nse_value > max_nse:\n",
    "            max_nse = nse_value\n",
    "            best_epoch = i\n",
    "\n",
    "# Output the best epoch and its NSE value\n",
    "if best_epoch is not None:\n",
    "    print(f\"\\nThe epoch with the highest NSE is Epoch {best_epoch} with an NSE value of {max_nse:.4f}\")\n",
    "else:\n",
    "    print(\"No NSE values found.\")\n",
    "\n"
   ]
  },
  {
   "cell_type": "code",
   "execution_count": null,
   "metadata": {},
   "outputs": [],
   "source": [
    "# fill in  with best epoch\n",
    "with open(run_dir / \"test\" / \"model_epoch...\" / \"test_results.p\", \"rb\") as fp: # fill in with best epoch\n",
    "    results = pickle.load(fp)\n",
    "\n",
    "qobs = results['6']['1D']['xr']['streamflow_obs']*area/(1000*3600*24)\n",
    "qsim = results['6']['1D']['xr']['streamflow_sim']*area/(1000*3600*24)\n",
    "\n",
    "fig, ax = plt.subplots(figsize=(16,10))\n",
    "ax.plot(qobs['date'], qobs)\n",
    "ax.plot(qsim['date'], qsim)\n",
    "ax.set_ylabel(\"Discharge (m³/s)\")\n",
    "ax.set_title(f\"Test period - NSE {results['6']['1D']['NSE']:.3f}\")\n",
    "\n",
    "    #data properties\n",
    "\n",
    "values = metrics.calculate_all_metrics(qobs.isel(time_step=-1), qsim.isel(time_step=-1))\n",
    "for key, val in values.items():\n",
    "    print(f\"{key}: {val:.3f}\")"
   ]
  }
 ],
 "metadata": {
  "kernelspec": {
   "display_name": "neuralhydrology",
   "language": "python",
   "name": "python3"
  },
  "language_info": {
   "codemirror_mode": {
    "name": "ipython",
    "version": 3
   },
   "file_extension": ".py",
   "mimetype": "text/x-python",
   "name": "python",
   "nbconvert_exporter": "python",
   "pygments_lexer": "ipython3",
   "version": "3.10.15"
  }
 },
 "nbformat": 4,
 "nbformat_minor": 4
}
